{
  "nbformat": 4,
  "nbformat_minor": 0,
  "metadata": {
    "colab": {
      "name": "FoodHub Problem.ipynb",
      "provenance": [],
      "collapsed_sections": []
    },
    "kernelspec": {
      "name": "python3",
      "display_name": "Python 3"
    },
    "language_info": {
      "name": "python"
    }
  },
  "cells": [
    {
      "cell_type": "markdown",
      "source": [
        "#**Introduction:**\n",
        "\n",
        "\n",
        "\n",
        "\n",
        "\n",
        "\n",
        "![image.png](data:image/png;base64,iVBORw0KGgoAAAANSUhEUgAAARcAAAC1CAIAAAD6EizSAAAMbmlDQ1BJQ0MgUHJvZmlsZQAASImVlwdYU8kWgOeWJCQktEAEpITeBJFepITQQpcq2AhJIKHEmBBU7OiigmtFRFFRdFVEwdUVkLUg9rIo9r5YUFHWRV0UReVNSEDXfeV7831z579nzpxz5tyZe+8AoNnHlUhyUS0A8sT50viwIOb41DQm6SlAAQVoATow4fJkElZcXBSAZaj9e3l3AyCK9qqjwtY/+/9r0eELZDwAkImQM/gyXh7kFgDwjTyJNB8AokJuMT1fouD5kHWlMEDIZQrOUvIuBWco+fCgTmI8G/JlANSoXK40CwCNe1DOLOBlQTsanyA7i/kiMQCaoyD784RcPmRF7KPy8qYquAKyLdSXQIbxAK+Mb2xm/c1+xrB9LjdrmJXzGixqwSKZJJc78/9Mzf8uebnyIR/WsFKF0vB4xfxhDm/lTI1UMBVytzgjJlaRa8h9Ir4y7wCgFKE8PEmpjxrxZGyYP8CA7MznBkdCNoIcKs6NiVLJMzJFoRzIcLWgM0T5nETI+pCXCGQhCSqdLdKp8SpfaEOmlM1Syc9ypYN+Fb4eyHOSWCr7b4QCjso+plEoTEyBTIFsWSBKjoGsAdlJlpMQqdIZWyhkxwzpSOXxivgtIccLxGFBSvtYQaY0NF6lX5InG5ovtkUo4sSoeH++MDFcmR/sJI87GD+cC3ZZIGYlDdkRyMZHDc2FLwgOUc4dey4QJyWo7PRJ8oPilWNxiiQ3TqWPmwtywxRyc8husoIE1Vg8OR8uTqV9PFOSH5eojBMvzOZGxCnjwVeCKMAGwYAJ5LBmgKkgG4jauhu74Z2yJxRwgRRkAQFwVEmGRqQM9ojhNQEUgj8gCYBseFzQYK8AFED552Gp8uoIMgd7CwZH5ICnkPNAJMiF9/LBUeJhb8ngCZSI/uGdCysPxpsLq6L/38uHpF8lLCiJUknkQx6ZmkOaxBBiMDGcGEq0ww1xf9wXj4LXQFhdcC/ce2geX/UJTwnthEeE64QOwu0poiLpd1FGgw5oP1SVi4xvc4FbQ5vueBDuB61DyzgDNwSOuBv0w8IDoGd3KGWr4lZkhfmd7b/N4JunodIjO5NR8ghyINn2+5Ea9hruw1YUuf42P8pYM4bzzR7u+d4/+5vs82Eb+b0mtgQ7gJ3BjmPnsMNYI2Bix7Am7CJ2RMHDq+vJ4Ooa8hY/GE8OtCP6hz+uyqcikzLnWucu50/KvnzBjHzFxmNPlcyUirKE+UwW/DoImBwxz2kU08XZxQUAxbdG+fp6yxj8hiCM819leWfha1cd7rGlX2UZ2wFofAC30pqvMusceA/30DEtnlxaoJThigsBviU04U4zACbAAtjC+bgAD+ALAkEIiACxIBGkgskwy0K4zqVgOpgNFoBiUApWgrVgA6gC28AusBfsB43gMDgOToML4DK4Du7C1dMJXoIe8A70IwhCQmgIHTFATBErxAFxQbwQfyQEiULikVQkHclCxIgcmY0sREqR1cgGZCtSg/yMHEKOI+eQduQ28hDpQt4gH1EMpaK6qDFqjY5GvVAWGokmopPQLHQaWoguQpejFWg1ugdtQI+jF9DraAf6Eu3FAKaOMTAzzBHzwthYLJaGZWJSbC5WgpVj1Vgd1gyf81WsA+vGPuBEnI4zcUe4gsPxJJyHT8Pn4svwDfguvAE/iV/FH+I9+BcCjWBEcCD4EDiE8YQswnRCMaGcsINwkHAK7qVOwjsikcgg2hA94V5MJWYTZxGXETcR64ktxHbiY2IviUQyIDmQ/EixJC4pn1RMWk/aQzpGukLqJPWpqauZqrmohaqlqYnVitTK1XarHVW7ovZMrZ+sRbYi+5BjyXzyTPIK8nZyM/kSuZPcT9Gm2FD8KImUbMoCSgWljnKKco/yVl1d3VzdW32cukh9vnqF+j71s+oP1T9Qdaj2VDZ1IlVOXU7dSW2h3qa+pdFo1rRAWhotn7acVkM7QXtA69OgazhpcDT4GvM0KjUaNK5ovNIka1ppsjQnaxZqlmse0Lyk2a1F1rLWYmtxteZqVWod0rqp1atN1x6jHaudp71Me7f2Oe3nOiQda50QHb7OIp1tOid0HtMxugWdTefRF9K300/RO3WJuja6HN1s3VLdvbptuj16Onpuesl6M/Qq9Y7odTAwhjWDw8hlrGDsZ9xgfBxhPII1QjBi6Yi6EVdGvNcfqR+oL9Av0a/Xv67/0YBpEGKQY7DKoNHgviFuaG84znC64WbDU4bdI3VH+o7kjSwZuX/kHSPUyN4o3miW0Taji0a9xibGYcYS4/XGJ4y7TRgmgSbZJmUmR026TOmm/qYi0zLTY6YvmHpMFjOXWcE8yewxMzILN5ObbTVrM+s3tzFPMi8yrze/b0Gx8LLItCizaLXosTS1jLacbVlreceKbOVlJbRaZ3XG6r21jXWK9WLrRuvnNvo2HJtCm1qbe7Y02wDbabbVttfsiHZedjl2m+wu26P27vZC+0r7Sw6og4eDyGGTQ/sowijvUeJR1aNuOlIdWY4FjrWOD50YTlFORU6NTq9GW45OG71q9JnRX5zdnXOdtzvfHaMzJmJM0ZjmMW9c7F14LpUu11xprqGu81ybXF+7ObgJ3Da73XKnu0e7L3Zvdf/s4ekh9ajz6PK09Ez33Oh500vXK85rmddZb4J3kPc878PeH3w8fPJ99vv86evom+O72/f5WJuxgrHbxz72M/fj+m316/Bn+qf7b/HvCDAL4AZUBzwKtAjkB+4IfMayY2Wz9rBeBTkHSYMOBr1n+7DnsFuCseCw4JLgthCdkKSQDSEPQs1Ds0JrQ3vC3MNmhbWEE8Ijw1eF3+QYc3icGk5PhGfEnIiTkdTIhMgNkY+i7KOkUc3RaHRE9JroezFWMeKYxlgQy4ldE3s/ziZuWtyv44jj4sZVjnsaPyZ+dvyZBHrClITdCe8SgxJXJN5Nsk2SJ7UmayZPTK5Jfp8SnLI6pWP86PFzxl9INUwVpTalkdKS03ak9U4ImbB2QudE94nFE29Mspk0Y9K5yYaTcycfmaI5hTvlQDohPSV9d/onbiy3mtubwcnYmNHDY/PW8V7yA/ll/C6Bn2C14FmmX+bqzOdZfllrsrqEAcJyYbeILdogep0dnl2V/T4nNmdnzkBuSm59nlpeet4hsY44R3xyqsnUGVPbJQ6SYknHNJ9pa6f1SCOlO2SIbJKsKV8X/tRflNvKf5A/LPAvqCzom548/cAM7RniGRdn2s9cOvNZYWjhT7PwWbxZrbPNZi+Y/XAOa87WucjcjLmt8yzmLZrXOT9s/q4FlAU5C34rci5aXfTXwpSFzYuMF81f9PiHsB9qizWKpcU3F/surlqCLxEtaVvqunT90i8l/JLzpc6l5aWflvGWnf9xzI8VPw4sz1zetsJjxeaVxJXilTdWBazatVp7deHqx2ui1zSUMctKyv5aO2XtuXK38qp1lHXydR0VURVN6y3Xr1z/aYNww/XKoMr6jUYbl258v4m/6crmwM11VcZVpVUft4i23NoatrWh2rq6fBtxW8G2p9uTt5/5yeunmh2GO0p3fN4p3tmxK37XyRrPmprdRrtX1KK18tquPRP3XN4bvLepzrFuaz2jvnQf2Cff9+Ln9J9v7I/c33rA60DdL1a/bDxIP1jSgDTMbOhpFDZ2NKU2tR+KONTa7Nt88FenX3ceNjtceUTvyIqjlKOLjg4cKzzW2yJp6T6edfxx65TWuyfGn7h2ctzJtlORp86eDj194gzrzLGzfmcPn/M5d+i81/nGCx4XGi66Xzz4m/tvB9s82houeV5quux9ubl9bPvRKwFXjl8Nvnr6Gufahesx19tvJN24dXPizY5b/FvPb+fefn2n4E7/3fn3CPdK7mvdL39g9KD6d7vf6zs8Oo48DH548VHCo7uPeY9fPpE9+dS56Cntafkz02c1z12eH+4K7br8YsKLzpeSl/3dxX9o/7Hxle2rX/4M/PNiz/ieztfS1wNvlr01eLvzL7e/Wnvjeh+8y3vX/76kz6Bv1wevD2c+pnx81j/9E+lTxWe7z81fIr/cG8gbGJBwpdzBXwEMVjQzE4A3OwGgpQJAh+c2ygTlWXCwIMrz6yCB/8TK8+Jg8QBgWwsAifMBiA0EoAqyNWRNyIpf+MRAgLq6DldVkWW6uihtUeFJiNA3MPDWGABSMwCfpQMD/ZsGBj7DfxvsNgAt05RnUEUhwjPDFsVZCdzYMe8a+K4oz6ffzPH7FigicAPft/8CMYGNCep3LPoAAAA4ZVhJZk1NACoAAAAIAAGHaQAEAAAAAQAAABoAAAAAAAKgAgAEAAAAAQAAARegAwAEAAAAAQAAALUAAAAAYJqJhAAAFiJJREFUeAHtXQuMVUWartvvBpZFHhlBQmAWQREFB11gFRF0shmdxRes2SiwqEQ3EUggGYlGFjFxZUBX8JFRfCwQdaLgiPgIKI6PMIOLGUFRgUbcNYjOSLcsDPSD7tv7na6mqK469/btrrqPpr6Tm+46der/quqr/7tVp07VuYnKykrBgwyQAQcGihxsaUoGyEDEAFVEPyADrgxQRa4M0p4MUEX0ATLgygBV5Mog7ckAVUQfIAOuDFBFrgzSngxQRfQBMuDKAFXkyiDtyQBVRB8gA64MUEWuDNKeDFBF9AEy4MoAVeTKIO3JAFVEHyADrgxQRa4M0p4MUEX0ATLgygBV5Mog7ckAVUQfIAOuDFBFrgzSngxQRfQBMuDKAFXkyiDtyQBVRB8gA64MUEWuDNKeDFBF9AEy4MoAVeTKIO3JAFVEHyADrgxQRa4M0p4MUEX0ATLgygBV5Mog7ckAVUQfIAOuDFBFrgzSngxQRfQBMuDKAFXkyiDtyQBVRB8gA64MUEWuDNKeDFBF9AEy4MoAVeTKIO3JAFVEHyADrgxQRa4M0p4MUEX0ATLgygBV5Mog7ckAVUQfIAOuDFBFrgzSngxQRfQBMuDKAFXkyiDtyQBVRB8gA64MUEWuDNKeDFBF9AEy4MoAVeTKIO3JAFVEHyADrgxQRa4M0p4MUEX0ATLgygBV5Mog7ckAVUQfIAOuDFBFrgzSngxQRfQBMuDKAFXkyiDtyUAJKSh8BmobhGgq/GJ2jRJWVvovJ1Xkn1O/iJDQoN5iy6L6oYOSfpGDQ6sXC39btvSVYu9CSlR6hwyucbJb4dpasWXxickjG0VjdjMKAr1IJP6lUhSLymKf1eV9kU82s4TVu0ezYD/khdxyMewnzd6Hx1SRl8YhSNAMUEVBNz8r74UBqsgLjQQJmgGqKOjmZ+W9MOB5prsWM0o+jtBmDlPx1mEeYtuzYCf38B1uf40XbGlTO3Ys66mTp70CV3j22WcvueSS+vr6tAnbv3jBBRd02IHaRy3QFODtuuuue/DBB3XeysvLQebSpUuFyPgxYYlY94eS6qOmY97+jw2FOEteJHZ8U/zRnjZTzkfqxKxJjX27dbEZSZ8qgpMOGTJk2LBhBeqtBVysbt262bydccYZHStyqXjkzZKtuxO61YA+zbf/UhSmivYdTNyxqo2KUPLr/r6xbw/RtWb2PatItl9TE9er6J6caVjnrbjYdK9MULqVR6nUg3Sse+jVLRO7fKZRpUUhPN0Q5Lo6Zu+f6/yZHxno+gxQRV2/DVmDfDOQlRGdUanODU4MEJ6SgYJlIOsqgoRWrly5adOmgqWABSMDjgxkXUUo38GDB998880OFTScae4O0cLEhclALlQka+5dGKmeVDpmlx4W4J2oSBrMTqA5eRJuhPEpPYlxomVOuWAfz3SR0uZORSfbzcN/6ZQ33XTTtGnTzj333H79+pWVlQG3oaHhhx9++PLLLzdu3PjMM88gpkM+KmGHDh06b9688ePHn3nmmb169aqoqKirqzt8+PD333//zjvv3HfffTJZhsgy8WWXXTZ//nwU9ayzzpKA33777UcffbRgwQIU2AMjmUDAI8vFjqrit3cW7zpQdKxOdK8QIwcmJ5yTHDe8Zb1A2kUDtZbSKgGY6igStRZauvQ2jltpbbysxnQxFUmnXLJkyZ133qk/lJRPWrp3745IPL685pprVqxY8dhjjy1cuBD0ZeLxQIavP/zww2PGjFGMS1j4PbwfBy7ddddd77333uzZs/ft29cuLDCh8LfeekthKkAUEsf06dPXrl07Y8YMlWO2ApXi3U9Kpj1UWnPUyAFPpfAp3XD3iSljG0Xs+q0S8eSmMvvx6A/P1scvMigS67aVTHtY9XetOVY9Wj/0J8mMHqeWi227Sm58pPQb8xumtbQvzz8x9R8KaNtimu8Tg+78n8Ip0VEcOHDg3nvvhVrgkeqQhVOnCEBR8Pg9e/bAj6X20lQACdasWfP+++/D3XUQZaJHXn755VVVVQBPD4urV1111Xfffadj2oAQ0qeffnr8+HF1yX+gTCxcXXbF4tKa49EDWfsjysQ1D5QiTarFRhUti5B0w/SFLKuIrmeeXkfr1V0sW1c2/p5IQjqCCqO0kOjUhypi1uDpQDkMdxkVwSnRV+zevRt9gvTp9CzJNPi+//rrr0eNGpXG43Hp448/hjdnAotMZTIse3v00UdTwSJ+3Lhxb7zxBqYokT5NUXH1/PPPx/gzfbI0COkvndFdzFtZLl82UBkNe2MObJ+GjyLN6i1lIt+jkztWlf1qbfRqBHxiD1na9X9MXLqoUISUC86kq6VyOIOp2GESbBGPiT7bKe2HUbo7IoxOaevWrbJHssGB/Oqrr8ruwiiJgazDIiVOMar88ccfFy1aZMMiwbp162SydmEB1bNnTyOZl1PIZmtVAivr4JG10DLeJaQdppuWiX9dWfzP40THbmA0QPcgigR5yIIZq4GM0uIU9Zr3XPmKO+rjB6LupckYIesqgovgZuOBBx7A3UW7pdqxY8dFF10U65Qffvgh9GC4Mhwdfvz6669//vnnAB8+fPi1114rB3sqL5jAELfyWCeuImUAErr11ltxE2XDIgHuf2CFafoBAwZceeWV8t5GT4kwxpaYcvjggw/0MgMWd2Wyz9RzRGmPHTuGbufFF1/86quvLr300pkzZ9q56ybuYdn/SI/89fSmMX+X7FYqDlSL/3i15E/7W/1V5oLveNwWvb2rZMroxozuXtwLF4egJPRPFzfPmNA4sI/4yzGx5ZPilW8VRW8d0bpTpETkrCuKRw9qymOBUYmsq0gSlYmE4GRyqs3gVvq63V0g/YYNGyAbPf0tt9yCTuCGG24w3B2jJtzJYKOB7u4wXLZsmW6OMGChTNzSbNu2Tb+EzQsvv/wyrurISLBq1SqoV0+JMMaHRgwMMS83cOBAFf+7lgMyfvrppw1MlcZLABK6YXzz2jl1ld2FkHtWhoupExtnPlKx5vdthITs/rC7aMpYLAv1knMnQVDgaP5gYqOQE/FCYOZjzlVFZy8ox/paXUjI4FdrSzcvacpvgbvGfRGmno0G0SUEYejH1KlT169fjwSGyZw5c/QYiHPu3LlGx4UE6C6gCkhIx0QYPo/eQ0dAGN6PWy8IDGjyEgI4tWGR8sILL0QaAxZdE7Rtl9bIqNOncDtsjli3oC4ap6GMmLDGB9PQteI/Z8VsA/vTV3l2CRD5X3ObIgmhtCinLHCtGNo/WfVQvfH6HnRHb+9MHKrOc5nznH27zgGnHDlyJHoS/dsaPgdfl70QnNIAQQyEhP5Ed02YY4iFHka5O6xuu+02wxYmd999N57hxMJCWpg912GlOdSo40BF+inCMHnhhRdSwWI6HtUxTLydNokVM+GMMUfvv20e1E9AZqeOYvH5gVNnuQ/h5g3tOfOKhpi+pVHgvZazr0ye/L46Vbr3dhXlalB1KlM9VOgqQlnxcEYvsQy/9NJLCNi+rlI+//zzKqwCUJcKI2CIEzHwZqz6SwNrdGgwgT4vvvhiHXbEiBH6qQw/8cQTdqSK2b59uy1OddUxcPnIZKpdesMHtH05W7E4WN1mk59j1h02bxD3TW2KBnKxR724ZVLMhOfH/1N0ajVGrGGWIwtIRXBHLD6w62vPCiCNnAGzE6uYWBUpKPRI6JdUYhmAH8ObjUj9VKpr7969hsdj9gIPslQvh0UPuhXCqJocIhrx6hRzJyrsPdC3B0ZF8Uf/3m3i/b4xtA10xidYS5FyqiApRg2J6VfzPgrNuorgcPfcc09JZseECRPsfgBTZHYTtLu8FV4L3zUMdf9GR2RcxemuXbvsSCMGK4yMGJyOHTtWRWLdkJ41GMDqIXU1NnDo0KHYeMdIOUDCwp9UR3lxc6pL+Yrv2zOl5lEkTC30/puWWXutfNVYkJGq+9KSZS+YdRW5Fx3f9AaI9FFbbyqZvHTkyBEVgwCs4N8qBhMAKqwCWBihwqkCNTU19qU+ffqoyEwmJFViGaiurjZi/Jw2iX54h0Hqo9JcppM6aa6uYO1Cyr6opQxn9jJHoYeOJtKbZLvsOZrpRjXSOH32Kol+QO8WspeRI3L2VgD1qCi43saRqwooXx9kFIvGZJ7r2AX6Inv+yrgtSdUqePqkSwhW+n0XJvFsw9gOykgWu85A70ywBtwwafcU7wBqN02XSVAkfvxr5/3qMGYr01rXYfCmP8VoanlDS1qTbFOX18wzq9zRo+Y6ZNi1uzQOS37soaA+YNPDqiCYJFDhVIHBgwfbl/QbKmhV1zmUrN+P2baI0Z/GxiYowMh23b1zZT50pB2f/P5wwlAR1gpyjq4dtr/44gs7BVYn2JF6DBYx6KcyjOk1Fbl582YVVgEsIVXhVIHRo0frXRyS4XTnzp1qyLp//37DFqLSJ/GMqzg977zz7MiuG/OXmG4+09rs+XNRmr6o5ngCmzuMucQRAzmia49ebFiwk9x44412pB6DPXz6qQxjq48MwOPxDDT2ySyEpOasDQTEY8GO3s8gAU4NnRunEsR+wquDT548WT/tEuG/1qd4slQqqr5LcSmDim3cnvrhD16nul8fzLXCjRnSzDm6dNTC3e1dA/jux7obOHSsuyMSEop9ogoo1WMg13fffdfO+6mnnrIjESPzwl5X+6rxbCr2VS0333yzbShhUVp76Wps4nxFdi+JmX3+piYR32nUi1XvFGEXUCcOLFzAmu5oRU/ssK5cPLEpZj5s7PA8r0aNLWwnqp9dE6zaNnoACAmLOOUCNqUlBHDgcerq1auNQRfMn3vuOaOUy5cvN2JgBflhr4SEwl8kkGEEsA3JcHfAokPTF7lCpRBVbC+HJ8UKSuaLU9y/Pfnkk0YxCus0KbCw2j7W/L4k5m6kUiz5XSQgY9Blm6eJufbXZZGKDN9s2a6r9k1I82i7hxCjB1NFaeg8eSl2ERA8/pVXXoFrypkGeCQC2LIq98adNI3+S183Fu/A3fFkFtsfbH1itwI2yaKvgy1g8Rcr5TAbYa8rx6XFixfjr3FAh0YMSot7ORkvtYS/6IWwiRCzIIbmDds8nyajlaBGGWSnEe3qwzJGdA/4IFAklvy27N9fdPr5YSBj49CUpRU1dQkdHDvesV0XV9scDQLbPdrE5OMkpn/MRzHS5Ql3xz0Mvu+xtcHwNumaxkyDkUZCywGVPpyT8ZMmTWpsbISQdCuEMWJEX4cDYSUzPQ3MEQ8Rxq67w9xG7E4n6LO5uRlbJPDoFvNycmJdZWHgpyMlt9f69kliYfjBwwl9VwIcGrv6Vm2umD4hiS3lXx6IdsuiXIiPvnmgr5hbmHbK3WpYKTZuT/SZUTH3F8mfnd1cVyvW/3cR1m4bEpId0Z2/yP8vYnQBFbU0TCUWPp9zzjn2nrZ2PQ++DlusGLIlhBh0CFOmTLG3duuwelh5AWA/++wziDAVLHQLWJVeBiQUhoU4ECNPAQVd4bEYpBublwGSh9MTYtH1SfsFJnBr9Btbd5+US4tyoISfj2r+tkZ88edEh4SE1eUwxKLySK4tfU60M691PigSp3k0RL++Hgk7Zm2dmTar58bYM6t5OYHDWfHtjnsb+ByOTLBkSuxN0u9bDEPAQmATJ06EE2cICwSkRC+k1rYamDiVsMhalsFIAKnIQ0Iha/RL+o8XGenzf9oobv95w7ABzS3D2zbFgXOf+mC3bK1Asg131UVPdTp6NInB/ZrfX9yApQkyo1PIloSQ4DezmyZfWBBvAsqKiqTrxDpQR4nV08M1MVK6+uqr5apq4OtX9bDMGn0Fnu3Ejrj0xIDFlu8ePXrIvX1pii0vYWnC/fffL3sh2OpQehiXkPX1118v9WmXVqKhLvjRJxjiZ7/wV0baiXXkdsMY6shPm5Uyqc1U+jZ7jaz0f3ywPtqPFN0nxhyIx2fGpOYdy+vQP9RgByB2CamSxFi0Rulp6psSQ4cm8c6taMkpAONueWRGePXX7b+M24aUOqPsXfE8osO9MtZl6gttsAzH44JluCa6DhyYncMdPzb22AsU8DUvb1ewOxXEpXF0RSvSYGiH3UeYMcPbSAAuR1wqgQzA44GZ+TvuAIv00CfeFjRr1iyjqEB7/PHHoTQJjqXi+ioN8IZXPhgFyPBUjaNSOLwJo9JjTQB8NP5Iit4Vzf/7eO2yjdE7euw0P/tp87IZjVHn0IIAzOh/nAxMWyNNg8Br66qfac3ILg6E+tD0hmjpt33NhM7ROQagKb9NO1EE+GKsld9ckIXKCGsCsCtBLqnGtz4mo7GMQJahE5kqWCBgxrx///7S9fEOR0hXVa1DyAoTU4h4NwsAUc7XXnsNUyYAVFAqmcpFXgWjnyxvyPQFHbGNGd8mLfngW9Re1p0mPYxgkox+THLnN8W478fRv19yRP8kNqJGL3VQk3l2SfSrLZlHUEbuWCOnbnJaMtpWVYLVDDKjs89KXjAoiamOzuunUgz/t4q9uGHr1OMsWWr7r2cV2RlkO8Z2PuWXLlnbsEBzRDYwM0TrmIpc6twhW+N5jnL9DoFkkljPCBJVKs3E1k6THRVB7137yNAXO1rJbMBmA7Oj9fKW3t2hMyxKzjLKsDxxybIyuxCXEePIwGnLAFV02jYtK5YzBqiinFHNjE5bBqii07ZpWbGcMUAV5Yzqzme072AizXt8Oo8bmiV+m+yY2HvQ8zQ3WOzyc3Snvye0/FzPlp5i9E+Nx5Onf9X91rDm/xLz13h9TnSyfF3+edHJipzO/6OFMA2ncwVzWTevqwxaC86+KJct2Mm8ohU69lKAToLRzD8DvC/yzykRQ2OAKgqtxVlf/wxQRf45JWJoDFBFobU46+ufAarIP6dEDI0Bqii0Fmd9/TNAFfnnlIihMUAVhdbirK9/Bqgi/5wSMTQGqKLQWpz19c8AVeSfUyKGxgBVFFqLs77+GaCK/HNKxNAYoIpCa3HW1z8DVJF/TokYGgNUUWgtzvr6Z4Aq8s8pEUNjgCoKrcVZX/8MUEX+OSViaAxQRaG1OOvrnwGqyD+nRAyNAaootBZnff0zQBX555SIoTFAFYXW4qyvfwaoIv+cEjE0Bqii0Fqc9fXPAFXkn1MihsYAVRRai7O+/hmgivxzSsTQGKCKQmtx1tc/A1SRf06JGBoDVFFoLc76+meAKvLPKRFDY4AqCq3FWV//DFBF/jklYmgMUEWhtTjr658Bqsg/p0QMjQGqKLQWZ339M0AV+eeUiKExQBWF1uKsr38GqCL/nBIxNAaootBanPX1zwBV5J9TIobGAFUUWouzvv4ZoIr8c0rE0BigikJrcdbXPwNUkX9OiRgaA1RRaC3O+vpngCryzykRQ2OAKgqtxVlf/wxQRf45JWJoDFBFobU46+ufAarIP6dEDI0Bqii0Fmd9/TNAFfnnlIihMUAVhdbirK9/Bqgi/5wSMTQGqKLQWpz19c8AVeSfUyKGxgBVFFqLs77+GaCK/HNKxNAYoIpCa3HW1z8DVJF/TokYGgNUUWgtzvr6Z4Aq8s8pEUNjgCoKrcVZX/8MUEX+OSViaAxQRaG1OOvrn4H/B6lrlbQWkeUmAAAAAElFTkSuQmCC)\n",
        "\n",
        "The number of restaurants in New York is increasing day by day. Lots of students and busy professionals rely on those restaurants due to their hectic lifestyles. Online food delivery service is a great option for them. It provides them with good food from their favorite restaurants. A food aggregator company FoodHub offers access to multiple restaurants through a single smartphone app.\n",
        "\n",
        "The app allows the restaurants to receive a direct online order from a customer. The app assigns a delivery person from the company to pick up the order after it is confirmed by the restaurant. The delivery person then uses the map to reach the restaurant and waits for the food package. Once the food package is handed over to the delivery person, he/she confirms the pick-up in the app and travels to the customer's location to deliver the food. The delivery person confirms the drop-off in the app after delivering the food package to the customer. The customer can rate the order in the app. The food aggregator earns money by collecting a fixed margin of the delivery order from the restaurants.\n",
        "\n",
        "The food aggregator company has stored the data of the different orders made by the registered customers in their online portal. They want to analyze the data to get a fair idea about the demand of different restaurants which will help them in enhancing their customer experience. Suppose you are hired as a Data Scientist in this company and the Data Science team has shared some of the key questions that need to be answered. Perform the data analysis to find answers to these questions that will help the company to improve the business. "
      ],
      "metadata": {
        "id": "LsyT35Op6lku"
      }
    },
    {
      "cell_type": "markdown",
      "source": [
        "##**I Data visualization**\n",
        "\n",
        "Firstly, we need to understand the key elements of the data we want to explore. Factors such as the data shape, the variable types, the key statistics of the data and the presence or absence of missing values, are prioritary to understand before we do a further analysis of the data in order to get insights. "
      ],
      "metadata": {
        "id": "ZchPqCgC7ZHP"
      }
    },
    {
      "cell_type": "code",
      "execution_count": 1,
      "metadata": {
        "colab": {
          "base_uri": "https://localhost:8080/"
        },
        "id": "YL6UyK5-54Nc",
        "outputId": "f764c8d2-628b-4b61-e25a-7b0e8105f57a"
      },
      "outputs": [
        {
          "output_type": "execute_result",
          "data": {
            "text/plain": [
              "(1898, 9)"
            ]
          },
          "metadata": {},
          "execution_count": 1
        }
      ],
      "source": [
        "import pandas as pd \n",
        "import numpy as np \n",
        "pd.read_csv(\"foodhub_order.csv\")\n",
        "df=pd.read_csv(\"foodhub_order.csv\")\n",
        "df.shape"
      ]
    },
    {
      "cell_type": "markdown",
      "source": [
        "The data structure is made by 1898 rows and 9 columns. We should also take a look at the variables in each column. "
      ],
      "metadata": {
        "id": "0CNUNWAe6k9r"
      }
    },
    {
      "cell_type": "code",
      "source": [
        "df.info()"
      ],
      "metadata": {
        "colab": {
          "base_uri": "https://localhost:8080/"
        },
        "id": "brDx0SrM9caz",
        "outputId": "46d3e54e-03ab-4898-b813-27a34e441906"
      },
      "execution_count": 9,
      "outputs": [
        {
          "output_type": "stream",
          "name": "stdout",
          "text": [
            "<class 'pandas.core.frame.DataFrame'>\n",
            "RangeIndex: 1898 entries, 0 to 1897\n",
            "Data columns (total 9 columns):\n",
            " #   Column                 Non-Null Count  Dtype  \n",
            "---  ------                 --------------  -----  \n",
            " 0   order_id               1898 non-null   int64  \n",
            " 1   customer_id            1898 non-null   int64  \n",
            " 2   restaurant_name        1898 non-null   object \n",
            " 3   cuisine_type           1898 non-null   object \n",
            " 4   cost_of_the_order      1898 non-null   float64\n",
            " 5   day_of_the_week        1898 non-null   object \n",
            " 6   rating                 1898 non-null   object \n",
            " 7   food_preparation_time  1898 non-null   int64  \n",
            " 8   delivery_time          1898 non-null   int64  \n",
            "dtypes: float64(1), int64(4), object(4)\n",
            "memory usage: 133.6+ KB\n"
          ]
        }
      ]
    },
    {
      "cell_type": "markdown",
      "source": [
        "With a total of 9 columns, we have 4 integer variable, 4 object variables and 1 floating. Before analysing the"
      ],
      "metadata": {
        "id": "4aNFtR0u_CtL"
      }
    },
    {
      "cell_type": "code",
      "source": [
        ""
      ],
      "metadata": {
        "id": "RwsrAA-3_BSB"
      },
      "execution_count": null,
      "outputs": []
    },
    {
      "cell_type": "markdown",
      "source": [
        "###Univariate analysis"
      ],
      "metadata": {
        "id": "BUa5aBlPOm0t"
      }
    },
    {
      "cell_type": "markdown",
      "source": [
        "###Multivariate analysis"
      ],
      "metadata": {
        "id": "WwDJOHUmOp2I"
      }
    },
    {
      "cell_type": "markdown",
      "source": [
        "###Data Visualisation"
      ],
      "metadata": {
        "id": "qOVWYWV-OtuR"
      }
    },
    {
      "cell_type": "markdown",
      "source": [
        "###Conclusions"
      ],
      "metadata": {
        "id": "tSIHYi4MPCkU"
      }
    },
    {
      "cell_type": "code",
      "source": [
        "!pip install nbconvert"
      ],
      "metadata": {
        "colab": {
          "base_uri": "https://localhost:8080/"
        },
        "id": "Ojt_bINYO-V3",
        "outputId": "4f0572c9-1ef3-40ff-ced0-013e3af07214"
      },
      "execution_count": 3,
      "outputs": [
        {
          "output_type": "stream",
          "name": "stdout",
          "text": [
            "Requirement already satisfied: nbconvert in /usr/local/lib/python3.7/dist-packages (5.6.1)\n",
            "Requirement already satisfied: mistune<2,>=0.8.1 in /usr/local/lib/python3.7/dist-packages (from nbconvert) (0.8.4)\n",
            "Requirement already satisfied: pandocfilters>=1.4.1 in /usr/local/lib/python3.7/dist-packages (from nbconvert) (1.5.0)\n",
            "Requirement already satisfied: jinja2>=2.4 in /usr/local/lib/python3.7/dist-packages (from nbconvert) (2.11.3)\n",
            "Requirement already satisfied: testpath in /usr/local/lib/python3.7/dist-packages (from nbconvert) (0.6.0)\n",
            "Requirement already satisfied: jupyter-core in /usr/local/lib/python3.7/dist-packages (from nbconvert) (4.10.0)\n",
            "Requirement already satisfied: traitlets>=4.2 in /usr/local/lib/python3.7/dist-packages (from nbconvert) (5.1.1)\n",
            "Requirement already satisfied: nbformat>=4.4 in /usr/local/lib/python3.7/dist-packages (from nbconvert) (5.3.0)\n",
            "Requirement already satisfied: pygments in /usr/local/lib/python3.7/dist-packages (from nbconvert) (2.6.1)\n",
            "Requirement already satisfied: entrypoints>=0.2.2 in /usr/local/lib/python3.7/dist-packages (from nbconvert) (0.4)\n",
            "Requirement already satisfied: defusedxml in /usr/local/lib/python3.7/dist-packages (from nbconvert) (0.7.1)\n",
            "Requirement already satisfied: bleach in /usr/local/lib/python3.7/dist-packages (from nbconvert) (5.0.0)\n",
            "Requirement already satisfied: MarkupSafe>=0.23 in /usr/local/lib/python3.7/dist-packages (from jinja2>=2.4->nbconvert) (2.0.1)\n",
            "Requirement already satisfied: jsonschema>=2.6 in /usr/local/lib/python3.7/dist-packages (from nbformat>=4.4->nbconvert) (4.3.3)\n",
            "Requirement already satisfied: fastjsonschema in /usr/local/lib/python3.7/dist-packages (from nbformat>=4.4->nbconvert) (2.15.3)\n",
            "Requirement already satisfied: importlib-resources>=1.4.0 in /usr/local/lib/python3.7/dist-packages (from jsonschema>=2.6->nbformat>=4.4->nbconvert) (5.7.1)\n",
            "Requirement already satisfied: pyrsistent!=0.17.0,!=0.17.1,!=0.17.2,>=0.14.0 in /usr/local/lib/python3.7/dist-packages (from jsonschema>=2.6->nbformat>=4.4->nbconvert) (0.18.1)\n",
            "Requirement already satisfied: typing-extensions in /usr/local/lib/python3.7/dist-packages (from jsonschema>=2.6->nbformat>=4.4->nbconvert) (4.2.0)\n",
            "Requirement already satisfied: importlib-metadata in /usr/local/lib/python3.7/dist-packages (from jsonschema>=2.6->nbformat>=4.4->nbconvert) (4.11.3)\n",
            "Requirement already satisfied: attrs>=17.4.0 in /usr/local/lib/python3.7/dist-packages (from jsonschema>=2.6->nbformat>=4.4->nbconvert) (21.4.0)\n",
            "Requirement already satisfied: zipp>=3.1.0 in /usr/local/lib/python3.7/dist-packages (from importlib-resources>=1.4.0->jsonschema>=2.6->nbformat>=4.4->nbconvert) (3.8.0)\n",
            "Requirement already satisfied: webencodings in /usr/local/lib/python3.7/dist-packages (from bleach->nbconvert) (0.5.1)\n",
            "Requirement already satisfied: six>=1.9.0 in /usr/local/lib/python3.7/dist-packages (from bleach->nbconvert) (1.15.0)\n"
          ]
        }
      ]
    },
    {
      "cell_type": "code",
      "source": [
        "!jupyter nbconvert ==to html notebook.ipynb"
      ],
      "metadata": {
        "colab": {
          "base_uri": "https://localhost:8080/"
        },
        "id": "C4dnFiIzSJfz",
        "outputId": "71b9ebda-0b97-4551-ec88-824de4eb2e62"
      },
      "execution_count": 5,
      "outputs": [
        {
          "output_type": "stream",
          "name": "stdout",
          "text": [
            "[NbConvertApp] WARNING | pattern '==to' matched no files\n",
            "[NbConvertApp] WARNING | pattern 'html' matched no files\n",
            "[NbConvertApp] WARNING | pattern 'notebook.ipynb' matched no files\n",
            "This application is used to convert notebook files (*.ipynb)\n",
            "        to various other formats.\n",
            "\n",
            "        WARNING: THE COMMANDLINE INTERFACE MAY CHANGE IN FUTURE RELEASES.\n",
            "\n",
            "Options\n",
            "=======\n",
            "The options below are convenience aliases to configurable class-options,\n",
            "as listed in the \"Equivalent to\" description-line of the aliases.\n",
            "To see all configurable class-options for some <cmd>, use:\n",
            "    <cmd> --help-all\n",
            "\n",
            "--debug\n",
            "    set log level to logging.DEBUG (maximize logging output)\n",
            "    Equivalent to: [--Application.log_level=10]\n",
            "--show-config\n",
            "    Show the application's configuration (human-readable format)\n",
            "    Equivalent to: [--Application.show_config=True]\n",
            "--show-config-json\n",
            "    Show the application's configuration (json format)\n",
            "    Equivalent to: [--Application.show_config_json=True]\n",
            "--generate-config\n",
            "    generate default config file\n",
            "    Equivalent to: [--JupyterApp.generate_config=True]\n",
            "-y\n",
            "    Answer yes to any questions instead of prompting.\n",
            "    Equivalent to: [--JupyterApp.answer_yes=True]\n",
            "--execute\n",
            "    Execute the notebook prior to export.\n",
            "    Equivalent to: [--ExecutePreprocessor.enabled=True]\n",
            "--allow-errors\n",
            "    Continue notebook execution even if one of the cells throws an error and include the error message in the cell output (the default behaviour is to abort conversion). This flag is only relevant if '--execute' was specified, too.\n",
            "    Equivalent to: [--ExecutePreprocessor.allow_errors=True]\n",
            "--stdin\n",
            "    read a single notebook file from stdin. Write the resulting notebook with default basename 'notebook.*'\n",
            "    Equivalent to: [--NbConvertApp.from_stdin=True]\n",
            "--stdout\n",
            "    Write notebook output to stdout instead of files.\n",
            "    Equivalent to: [--NbConvertApp.writer_class=StdoutWriter]\n",
            "--inplace\n",
            "    Run nbconvert in place, overwriting the existing notebook (only \n",
            "            relevant when converting to notebook format)\n",
            "    Equivalent to: [--NbConvertApp.use_output_suffix=False --NbConvertApp.export_format=notebook --FilesWriter.build_directory=]\n",
            "--clear-output\n",
            "    Clear output of current file and save in place, \n",
            "            overwriting the existing notebook.\n",
            "    Equivalent to: [--NbConvertApp.use_output_suffix=False --NbConvertApp.export_format=notebook --FilesWriter.build_directory= --ClearOutputPreprocessor.enabled=True]\n",
            "--no-prompt\n",
            "    Exclude input and output prompts from converted document.\n",
            "    Equivalent to: [--TemplateExporter.exclude_input_prompt=True --TemplateExporter.exclude_output_prompt=True]\n",
            "--no-input\n",
            "    Exclude input cells and output prompts from converted document. \n",
            "            This mode is ideal for generating code-free reports.\n",
            "    Equivalent to: [--TemplateExporter.exclude_output_prompt=True --TemplateExporter.exclude_input=True]\n",
            "--log-level=<Enum>\n",
            "    Set the log level by value or name.\n",
            "    Choices: any of [0, 10, 20, 30, 40, 50, 'DEBUG', 'INFO', 'WARN', 'ERROR', 'CRITICAL']\n",
            "    Default: 30\n",
            "    Equivalent to: [--Application.log_level]\n",
            "--config=<Unicode>\n",
            "    Full path of a config file.\n",
            "    Default: ''\n",
            "    Equivalent to: [--JupyterApp.config_file]\n",
            "--to=<Unicode>\n",
            "    The export format to be used, either one of the built-in formats\n",
            "            ['asciidoc', 'custom', 'html', 'latex', 'markdown', 'notebook', 'pdf', 'python', 'rst', 'script', 'slides']\n",
            "            or a dotted object name that represents the import path for an\n",
            "            `Exporter` class\n",
            "    Default: 'html'\n",
            "    Equivalent to: [--NbConvertApp.export_format]\n",
            "--template=<Unicode>\n",
            "    Name of the template file to use\n",
            "    Default: ''\n",
            "    Equivalent to: [--TemplateExporter.template_file]\n",
            "--writer=<DottedObjectName>\n",
            "    Writer class used to write the \n",
            "                                        results of the conversion\n",
            "    Default: 'FilesWriter'\n",
            "    Equivalent to: [--NbConvertApp.writer_class]\n",
            "--post=<DottedOrNone>\n",
            "    PostProcessor class used to write the\n",
            "                                        results of the conversion\n",
            "    Default: ''\n",
            "    Equivalent to: [--NbConvertApp.postprocessor_class]\n",
            "--output=<Unicode>\n",
            "    overwrite base name use for output files.\n",
            "                can only be used when converting one notebook at a time.\n",
            "    Default: ''\n",
            "    Equivalent to: [--NbConvertApp.output_base]\n",
            "--output-dir=<Unicode>\n",
            "    Directory to write output(s) to. Defaults\n",
            "                                  to output to the directory of each notebook. To recover\n",
            "                                  previous default behaviour (outputting to the current \n",
            "                                  working directory) use . as the flag value.\n",
            "    Default: ''\n",
            "    Equivalent to: [--FilesWriter.build_directory]\n",
            "--reveal-prefix=<Unicode>\n",
            "    The URL prefix for reveal.js (version 3.x).\n",
            "            This defaults to the reveal CDN, but can be any url pointing to a copy \n",
            "            of reveal.js. \n",
            "            For speaker notes to work, this must be a relative path to a local \n",
            "            copy of reveal.js: e.g., \"reveal.js\".\n",
            "            If a relative path is given, it must be a subdirectory of the\n",
            "            current directory (from which the server is run).\n",
            "            See the usage documentation\n",
            "            (https://nbconvert.readthedocs.io/en/latest/usage.html#reveal-js-html-slideshow)\n",
            "            for more details.\n",
            "    Default: ''\n",
            "    Equivalent to: [--SlidesExporter.reveal_url_prefix]\n",
            "--nbformat=<Enum>\n",
            "    The nbformat version to write.\n",
            "            Use this to downgrade notebooks.\n",
            "    Choices: any of [1, 2, 3, 4]\n",
            "    Default: 4\n",
            "    Equivalent to: [--NotebookExporter.nbformat_version]\n",
            "\n",
            "Examples\n",
            "--------\n",
            "\n",
            "    The simplest way to use nbconvert is\n",
            "\n",
            "            > jupyter nbconvert mynotebook.ipynb\n",
            "\n",
            "            which will convert mynotebook.ipynb to the default format (probably HTML).\n",
            "\n",
            "            You can specify the export format with `--to`.\n",
            "            Options include ['asciidoc', 'custom', 'html', 'latex', 'markdown', 'notebook', 'pdf', 'python', 'rst', 'script', 'slides'].\n",
            "\n",
            "            > jupyter nbconvert --to latex mynotebook.ipynb\n",
            "\n",
            "            Both HTML and LaTeX support multiple output templates. LaTeX includes\n",
            "            'base', 'article' and 'report'.  HTML includes 'basic' and 'full'. You\n",
            "            can specify the flavor of the format used.\n",
            "\n",
            "            > jupyter nbconvert --to html --template basic mynotebook.ipynb\n",
            "\n",
            "            You can also pipe the output to stdout, rather than a file\n",
            "\n",
            "            > jupyter nbconvert mynotebook.ipynb --stdout\n",
            "\n",
            "            PDF is generated via latex\n",
            "\n",
            "            > jupyter nbconvert mynotebook.ipynb --to pdf\n",
            "\n",
            "            You can get (and serve) a Reveal.js-powered slideshow\n",
            "\n",
            "            > jupyter nbconvert myslides.ipynb --to slides --post serve\n",
            "\n",
            "            Multiple notebooks can be given at the command line in a couple of \n",
            "            different ways:\n",
            "\n",
            "            > jupyter nbconvert notebook*.ipynb\n",
            "            > jupyter nbconvert notebook1.ipynb notebook2.ipynb\n",
            "\n",
            "            or you can specify the notebooks list in a config file, containing::\n",
            "\n",
            "                c.NbConvertApp.notebooks = [\"my_notebook.ipynb\"]\n",
            "\n",
            "            > jupyter nbconvert --config mycfg.py\n",
            "\n",
            "To see all available configurables, use `--help-all`.\n",
            "\n"
          ]
        }
      ]
    }
  ]
}